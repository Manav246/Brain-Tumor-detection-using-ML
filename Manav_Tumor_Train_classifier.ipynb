{
  "nbformat": 4,
  "nbformat_minor": 0,
  "metadata": {
    "colab": {
      "name": "Manav Tumor  Train classifier.ipynb",
      "provenance": [],
      "collapsed_sections": []
    },
    "kernelspec": {
      "name": "python3",
      "display_name": "Python 3"
    },
    "language_info": {
      "name": "python"
    },
    "accelerator": "GPU"
  },
  "cells": [
    {
      "cell_type": "code",
      "source": [
        "from google.colab import files\n",
        "k = files.upload()"
      ],
      "metadata": {
        "colab": {
          "resources": {
            "http://localhost:8080/nbextensions/google.colab/files.js": {
              "data": "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",
              "ok": true,
              "headers": [
                [
                  "content-type",
                  "application/javascript"
                ]
              ],
              "status": 200,
              "status_text": "OK"
            }
          },
          "base_uri": "https://localhost:8080/",
          "height": 74
        },
        "id": "BQ85wzoKrcyx",
        "outputId": "98633f78-4ff9-4194-d508-97275d0404b5"
      },
      "execution_count": null,
      "outputs": [
        {
          "output_type": "display_data",
          "data": {
            "text/html": [
              "\n",
              "     <input type=\"file\" id=\"files-c4c93b31-d012-4303-85bb-aede93388861\" name=\"files[]\" multiple disabled\n",
              "        style=\"border:none\" />\n",
              "     <output id=\"result-c4c93b31-d012-4303-85bb-aede93388861\">\n",
              "      Upload widget is only available when the cell has been executed in the\n",
              "      current browser session. Please rerun this cell to enable.\n",
              "      </output>\n",
              "      <script src=\"/nbextensions/google.colab/files.js\"></script> "
            ],
            "text/plain": [
              "<IPython.core.display.HTML object>"
            ]
          },
          "metadata": {}
        },
        {
          "output_type": "stream",
          "name": "stdout",
          "text": [
            "Saving kaggle.json to kaggle.json\n"
          ]
        }
      ]
    },
    {
      "cell_type": "code",
      "execution_count": null,
      "metadata": {
        "colab": {
          "base_uri": "https://localhost:8080/"
        },
        "id": "aGyfWhyK6xq3",
        "outputId": "1b34266c-4233-4ff6-dec4-e42528482cef"
      },
      "outputs": [
        {
          "output_type": "stream",
          "name": "stdout",
          "text": [
            "Requirement already satisfied: kaggle in /usr/local/lib/python3.7/dist-packages (1.5.12)\n",
            "Requirement already satisfied: tqdm in /usr/local/lib/python3.7/dist-packages (from kaggle) (4.62.3)\n",
            "Requirement already satisfied: urllib3 in /usr/local/lib/python3.7/dist-packages (from kaggle) (1.24.3)\n",
            "Requirement already satisfied: six>=1.10 in /usr/local/lib/python3.7/dist-packages (from kaggle) (1.15.0)\n",
            "Requirement already satisfied: certifi in /usr/local/lib/python3.7/dist-packages (from kaggle) (2021.10.8)\n",
            "Requirement already satisfied: requests in /usr/local/lib/python3.7/dist-packages (from kaggle) (2.23.0)\n",
            "Requirement already satisfied: python-dateutil in /usr/local/lib/python3.7/dist-packages (from kaggle) (2.8.2)\n",
            "Requirement already satisfied: python-slugify in /usr/local/lib/python3.7/dist-packages (from kaggle) (5.0.2)\n",
            "Requirement already satisfied: text-unidecode>=1.3 in /usr/local/lib/python3.7/dist-packages (from python-slugify->kaggle) (1.3)\n",
            "Requirement already satisfied: chardet<4,>=3.0.2 in /usr/local/lib/python3.7/dist-packages (from requests->kaggle) (3.0.4)\n",
            "Requirement already satisfied: idna<3,>=2.5 in /usr/local/lib/python3.7/dist-packages (from requests->kaggle) (2.10)\n",
            "Downloading brain-mri-images-for-brain-tumor-detection.zip to /content\n",
            " 60% 9.00M/15.1M [00:00<00:00, 9.11MB/s]\n",
            "100% 15.1M/15.1M [00:00<00:00, 16.1MB/s]\n",
            "Archive:  brain-mri-images-for-brain-tumor-detection.zip\n",
            "  inflating: data/brain_tumor_dataset/no/1 no.jpeg  \n",
            "  inflating: data/brain_tumor_dataset/no/10 no.jpg  \n",
            "  inflating: data/brain_tumor_dataset/no/11 no.jpg  \n",
            "  inflating: data/brain_tumor_dataset/no/12 no.jpg  \n",
            "  inflating: data/brain_tumor_dataset/no/13 no.jpg  \n",
            "  inflating: data/brain_tumor_dataset/no/14 no.jpg  \n",
            "  inflating: data/brain_tumor_dataset/no/15 no.jpg  \n",
            "  inflating: data/brain_tumor_dataset/no/17 no.jpg  \n",
            "  inflating: data/brain_tumor_dataset/no/18 no.jpg  \n",
            "  inflating: data/brain_tumor_dataset/no/19 no.jpg  \n",
            "  inflating: data/brain_tumor_dataset/no/2 no.jpeg  \n",
            "  inflating: data/brain_tumor_dataset/no/20 no.jpg  \n",
            "  inflating: data/brain_tumor_dataset/no/21 no.jpg  \n",
            "  inflating: data/brain_tumor_dataset/no/22 no.jpg  \n",
            "  inflating: data/brain_tumor_dataset/no/23 no.jpg  \n",
            "  inflating: data/brain_tumor_dataset/no/24 no.jpg  \n",
            "  inflating: data/brain_tumor_dataset/no/25 no.jpg  \n",
            "  inflating: data/brain_tumor_dataset/no/26 no.jpg  \n",
            "  inflating: data/brain_tumor_dataset/no/27 no.jpg  \n",
            "  inflating: data/brain_tumor_dataset/no/28 no.jpg  \n",
            "  inflating: data/brain_tumor_dataset/no/29 no.jpg  \n",
            "  inflating: data/brain_tumor_dataset/no/3 no.jpg  \n",
            "  inflating: data/brain_tumor_dataset/no/30 no.jpg  \n",
            "  inflating: data/brain_tumor_dataset/no/31 no.jpg  \n",
            "  inflating: data/brain_tumor_dataset/no/32 no.jpg  \n",
            "  inflating: data/brain_tumor_dataset/no/33 no.jpg  \n",
            "  inflating: data/brain_tumor_dataset/no/34 no.jpg  \n",
            "  inflating: data/brain_tumor_dataset/no/35 no.jpg  \n",
            "  inflating: data/brain_tumor_dataset/no/36 no.jpg  \n",
            "  inflating: data/brain_tumor_dataset/no/37 no.jpg  \n",
            "  inflating: data/brain_tumor_dataset/no/38 no.jpg  \n",
            "  inflating: data/brain_tumor_dataset/no/39 no.jpg  \n",
            "  inflating: data/brain_tumor_dataset/no/4 no.jpg  \n",
            "  inflating: data/brain_tumor_dataset/no/40 no.jpg  \n",
            "  inflating: data/brain_tumor_dataset/no/41 no.jpg  \n",
            "  inflating: data/brain_tumor_dataset/no/42 no.jpg  \n",
            "  inflating: data/brain_tumor_dataset/no/43 no.jpg  \n",
            "  inflating: data/brain_tumor_dataset/no/44no.jpg  \n",
            "  inflating: data/brain_tumor_dataset/no/45 no.jpg  \n",
            "  inflating: data/brain_tumor_dataset/no/46 no.jpg  \n",
            "  inflating: data/brain_tumor_dataset/no/47 no.jpg  \n",
            "  inflating: data/brain_tumor_dataset/no/48 no.jpeg  \n",
            "  inflating: data/brain_tumor_dataset/no/49 no.jpg  \n",
            "  inflating: data/brain_tumor_dataset/no/5 no.jpg  \n",
            "  inflating: data/brain_tumor_dataset/no/50 no.jpg  \n",
            "  inflating: data/brain_tumor_dataset/no/6 no.jpg  \n",
            "  inflating: data/brain_tumor_dataset/no/7 no.jpg  \n",
            "  inflating: data/brain_tumor_dataset/no/8 no.jpg  \n",
            "  inflating: data/brain_tumor_dataset/no/9 no.jpg  \n",
            "  inflating: data/brain_tumor_dataset/no/N1.JPG  \n",
            "  inflating: data/brain_tumor_dataset/no/N11.jpg  \n",
            "  inflating: data/brain_tumor_dataset/no/N15.jpg  \n",
            "  inflating: data/brain_tumor_dataset/no/N16.jpg  \n",
            "  inflating: data/brain_tumor_dataset/no/N17.jpg  \n",
            "  inflating: data/brain_tumor_dataset/no/N19.JPG  \n",
            "  inflating: data/brain_tumor_dataset/no/N2.JPG  \n",
            "  inflating: data/brain_tumor_dataset/no/N20.JPG  \n",
            "  inflating: data/brain_tumor_dataset/no/N21.jpg  \n",
            "  inflating: data/brain_tumor_dataset/no/N22.JPG  \n",
            "  inflating: data/brain_tumor_dataset/no/N26.JPG  \n",
            "  inflating: data/brain_tumor_dataset/no/N3.jpg  \n",
            "  inflating: data/brain_tumor_dataset/no/N5.jpg  \n",
            "  inflating: data/brain_tumor_dataset/no/N6.jpg  \n",
            "  inflating: data/brain_tumor_dataset/no/No11.jpg  \n",
            "  inflating: data/brain_tumor_dataset/no/No12.jpg  \n",
            "  inflating: data/brain_tumor_dataset/no/No13.jpg  \n",
            "  inflating: data/brain_tumor_dataset/no/No14.jpg  \n",
            "  inflating: data/brain_tumor_dataset/no/No15.jpg  \n",
            "  inflating: data/brain_tumor_dataset/no/No16.jpg  \n",
            "  inflating: data/brain_tumor_dataset/no/No17.jpg  \n",
            "  inflating: data/brain_tumor_dataset/no/No18.jpg  \n",
            "  inflating: data/brain_tumor_dataset/no/No19.jpg  \n",
            "  inflating: data/brain_tumor_dataset/no/No20.jpg  \n",
            "  inflating: data/brain_tumor_dataset/no/No21.jpg  \n",
            "  inflating: data/brain_tumor_dataset/no/No22.jpg  \n",
            "  inflating: data/brain_tumor_dataset/no/no 1.jpg  \n",
            "  inflating: data/brain_tumor_dataset/no/no 10.jpg  \n",
            "  inflating: data/brain_tumor_dataset/no/no 100.jpg  \n",
            "  inflating: data/brain_tumor_dataset/no/no 2.jpg  \n",
            "  inflating: data/brain_tumor_dataset/no/no 3.jpg  \n",
            "  inflating: data/brain_tumor_dataset/no/no 4.jpg  \n",
            "  inflating: data/brain_tumor_dataset/no/no 5.jpeg  \n",
            "  inflating: data/brain_tumor_dataset/no/no 6.jpg  \n",
            "  inflating: data/brain_tumor_dataset/no/no 7.jpeg  \n",
            "  inflating: data/brain_tumor_dataset/no/no 8.jpg  \n",
            "  inflating: data/brain_tumor_dataset/no/no 89.jpg  \n",
            "  inflating: data/brain_tumor_dataset/no/no 9.png  \n",
            "  inflating: data/brain_tumor_dataset/no/no 90.jpg  \n",
            "  inflating: data/brain_tumor_dataset/no/no 91.jpeg  \n",
            "  inflating: data/brain_tumor_dataset/no/no 92.jpg  \n",
            "  inflating: data/brain_tumor_dataset/no/no 923.jpg  \n",
            "  inflating: data/brain_tumor_dataset/no/no 94.jpg  \n",
            "  inflating: data/brain_tumor_dataset/no/no 95.jpg  \n",
            "  inflating: data/brain_tumor_dataset/no/no 96.jpg  \n",
            "  inflating: data/brain_tumor_dataset/no/no 97.jpg  \n",
            "  inflating: data/brain_tumor_dataset/no/no 98.jpg  \n",
            "  inflating: data/brain_tumor_dataset/no/no 99.jpg  \n",
            "  inflating: data/brain_tumor_dataset/no/no.jpg  \n",
            "  inflating: data/brain_tumor_dataset/yes/Y1.jpg  \n",
            "  inflating: data/brain_tumor_dataset/yes/Y10.jpg  \n",
            "  inflating: data/brain_tumor_dataset/yes/Y100.JPG  \n",
            "  inflating: data/brain_tumor_dataset/yes/Y101.jpg  \n",
            "  inflating: data/brain_tumor_dataset/yes/Y102.jpg  \n",
            "  inflating: data/brain_tumor_dataset/yes/Y103.jpg  \n",
            "  inflating: data/brain_tumor_dataset/yes/Y104.jpg  \n",
            "  inflating: data/brain_tumor_dataset/yes/Y105.jpg  \n",
            "  inflating: data/brain_tumor_dataset/yes/Y106.jpg  \n",
            "  inflating: data/brain_tumor_dataset/yes/Y107.jpg  \n",
            "  inflating: data/brain_tumor_dataset/yes/Y108.jpg  \n",
            "  inflating: data/brain_tumor_dataset/yes/Y109.JPG  \n",
            "  inflating: data/brain_tumor_dataset/yes/Y11.jpg  \n",
            "  inflating: data/brain_tumor_dataset/yes/Y111.JPG  \n",
            "  inflating: data/brain_tumor_dataset/yes/Y112.JPG  \n",
            "  inflating: data/brain_tumor_dataset/yes/Y113.JPG  \n",
            "  inflating: data/brain_tumor_dataset/yes/Y114.JPG  \n",
            "  inflating: data/brain_tumor_dataset/yes/Y115.JPG  \n",
            "  inflating: data/brain_tumor_dataset/yes/Y116.JPG  \n",
            "  inflating: data/brain_tumor_dataset/yes/Y117.JPG  \n",
            "  inflating: data/brain_tumor_dataset/yes/Y12.jpg  \n",
            "  inflating: data/brain_tumor_dataset/yes/Y120.JPG  \n",
            "  inflating: data/brain_tumor_dataset/yes/Y13.jpg  \n",
            "  inflating: data/brain_tumor_dataset/yes/Y14.jpg  \n",
            "  inflating: data/brain_tumor_dataset/yes/Y146.JPG  \n",
            "  inflating: data/brain_tumor_dataset/yes/Y147.JPG  \n",
            "  inflating: data/brain_tumor_dataset/yes/Y148.JPG  \n",
            "  inflating: data/brain_tumor_dataset/yes/Y15.jpg  \n",
            "  inflating: data/brain_tumor_dataset/yes/Y153.jpg  \n",
            "  inflating: data/brain_tumor_dataset/yes/Y154.jpg  \n",
            "  inflating: data/brain_tumor_dataset/yes/Y155.JPG  \n",
            "  inflating: data/brain_tumor_dataset/yes/Y156.JPG  \n",
            "  inflating: data/brain_tumor_dataset/yes/Y157.JPG  \n",
            "  inflating: data/brain_tumor_dataset/yes/Y158.JPG  \n",
            "  inflating: data/brain_tumor_dataset/yes/Y159.JPG  \n",
            "  inflating: data/brain_tumor_dataset/yes/Y16.JPG  \n",
            "  inflating: data/brain_tumor_dataset/yes/Y160.JPG  \n",
            "  inflating: data/brain_tumor_dataset/yes/Y161.JPG  \n",
            "  inflating: data/brain_tumor_dataset/yes/Y162.jpg  \n",
            "  inflating: data/brain_tumor_dataset/yes/Y163.JPG  \n",
            "  inflating: data/brain_tumor_dataset/yes/Y164.JPG  \n",
            "  inflating: data/brain_tumor_dataset/yes/Y165.JPG  \n",
            "  inflating: data/brain_tumor_dataset/yes/Y166.JPG  \n",
            "  inflating: data/brain_tumor_dataset/yes/Y167.JPG  \n",
            "  inflating: data/brain_tumor_dataset/yes/Y168.jpg  \n",
            "  inflating: data/brain_tumor_dataset/yes/Y169.jpg  \n",
            "  inflating: data/brain_tumor_dataset/yes/Y17.jpg  \n",
            "  inflating: data/brain_tumor_dataset/yes/Y170.JPG  \n",
            "  inflating: data/brain_tumor_dataset/yes/Y18.JPG  \n",
            "  inflating: data/brain_tumor_dataset/yes/Y180.jpg  \n",
            "  inflating: data/brain_tumor_dataset/yes/Y181.jpg  \n",
            "  inflating: data/brain_tumor_dataset/yes/Y182.JPG  \n",
            "  inflating: data/brain_tumor_dataset/yes/Y183.jpg  \n",
            "  inflating: data/brain_tumor_dataset/yes/Y184.JPG  \n",
            "  inflating: data/brain_tumor_dataset/yes/Y185.jpg  \n",
            "  inflating: data/brain_tumor_dataset/yes/Y186.jpg  \n",
            "  inflating: data/brain_tumor_dataset/yes/Y187.jpg  \n",
            "  inflating: data/brain_tumor_dataset/yes/Y188.jpg  \n",
            "  inflating: data/brain_tumor_dataset/yes/Y19.JPG  \n",
            "  inflating: data/brain_tumor_dataset/yes/Y192.JPG  \n",
            "  inflating: data/brain_tumor_dataset/yes/Y193.JPG  \n",
            "  inflating: data/brain_tumor_dataset/yes/Y194.jpg  \n",
            "  inflating: data/brain_tumor_dataset/yes/Y195.JPG  \n",
            "  inflating: data/brain_tumor_dataset/yes/Y2.jpg  \n",
            "  inflating: data/brain_tumor_dataset/yes/Y20.jpg  \n",
            "  inflating: data/brain_tumor_dataset/yes/Y21.jpg  \n",
            "  inflating: data/brain_tumor_dataset/yes/Y22.jpg  \n",
            "  inflating: data/brain_tumor_dataset/yes/Y23.JPG  \n",
            "  inflating: data/brain_tumor_dataset/yes/Y24.jpg  \n",
            "  inflating: data/brain_tumor_dataset/yes/Y242.JPG  \n",
            "  inflating: data/brain_tumor_dataset/yes/Y243.JPG  \n",
            "  inflating: data/brain_tumor_dataset/yes/Y244.JPG  \n",
            "  inflating: data/brain_tumor_dataset/yes/Y245.jpg  \n",
            "  inflating: data/brain_tumor_dataset/yes/Y246.JPG  \n",
            "  inflating: data/brain_tumor_dataset/yes/Y247.JPG  \n",
            "  inflating: data/brain_tumor_dataset/yes/Y248.JPG  \n",
            "  inflating: data/brain_tumor_dataset/yes/Y249.JPG  \n",
            "  inflating: data/brain_tumor_dataset/yes/Y25.jpg  \n",
            "  inflating: data/brain_tumor_dataset/yes/Y250.jpg  \n",
            "  inflating: data/brain_tumor_dataset/yes/Y251.JPG  \n",
            "  inflating: data/brain_tumor_dataset/yes/Y252.jpg  \n",
            "  inflating: data/brain_tumor_dataset/yes/Y253.JPG  \n",
            "  inflating: data/brain_tumor_dataset/yes/Y254.jpg  \n",
            "  inflating: data/brain_tumor_dataset/yes/Y255.JPG  \n",
            "  inflating: data/brain_tumor_dataset/yes/Y256.JPG  \n",
            "  inflating: data/brain_tumor_dataset/yes/Y257.jpg  \n",
            "  inflating: data/brain_tumor_dataset/yes/Y258.JPG  \n",
            "  inflating: data/brain_tumor_dataset/yes/Y259.JPG  \n",
            "  inflating: data/brain_tumor_dataset/yes/Y26.jpg  \n",
            "  inflating: data/brain_tumor_dataset/yes/Y27.jpg  \n",
            "  inflating: data/brain_tumor_dataset/yes/Y28.jpg  \n",
            "  inflating: data/brain_tumor_dataset/yes/Y29.jpg  \n",
            "  inflating: data/brain_tumor_dataset/yes/Y3.jpg  \n",
            "  inflating: data/brain_tumor_dataset/yes/Y30.jpg  \n",
            "  inflating: data/brain_tumor_dataset/yes/Y31.jpg  \n",
            "  inflating: data/brain_tumor_dataset/yes/Y32.jpg  \n",
            "  inflating: data/brain_tumor_dataset/yes/Y33.jpg  \n",
            "  inflating: data/brain_tumor_dataset/yes/Y34.jpg  \n",
            "  inflating: data/brain_tumor_dataset/yes/Y35.jpg  \n",
            "  inflating: data/brain_tumor_dataset/yes/Y36.JPG  \n",
            "  inflating: data/brain_tumor_dataset/yes/Y37.jpg  \n",
            "  inflating: data/brain_tumor_dataset/yes/Y38.jpg  \n",
            "  inflating: data/brain_tumor_dataset/yes/Y39.jpg  \n",
            "  inflating: data/brain_tumor_dataset/yes/Y4.jpg  \n",
            "  inflating: data/brain_tumor_dataset/yes/Y40.JPG  \n",
            "  inflating: data/brain_tumor_dataset/yes/Y41.jpg  \n",
            "  inflating: data/brain_tumor_dataset/yes/Y42.jpg  \n",
            "  inflating: data/brain_tumor_dataset/yes/Y44.JPG  \n",
            "  inflating: data/brain_tumor_dataset/yes/Y45.JPG  \n",
            "  inflating: data/brain_tumor_dataset/yes/Y46.jpg  \n",
            "  inflating: data/brain_tumor_dataset/yes/Y47.JPG  \n",
            "  inflating: data/brain_tumor_dataset/yes/Y49.JPG  \n",
            "  inflating: data/brain_tumor_dataset/yes/Y50.JPG  \n",
            "  inflating: data/brain_tumor_dataset/yes/Y51.jpg  \n",
            "  inflating: data/brain_tumor_dataset/yes/Y52.jpg  \n",
            "  inflating: data/brain_tumor_dataset/yes/Y53.jpg  \n",
            "  inflating: data/brain_tumor_dataset/yes/Y54.jpg  \n",
            "  inflating: data/brain_tumor_dataset/yes/Y55.jpg  \n",
            "  inflating: data/brain_tumor_dataset/yes/Y56.jpg  \n",
            "  inflating: data/brain_tumor_dataset/yes/Y58.JPG  \n",
            "  inflating: data/brain_tumor_dataset/yes/Y59.JPG  \n",
            "  inflating: data/brain_tumor_dataset/yes/Y6.jpg  \n",
            "  inflating: data/brain_tumor_dataset/yes/Y60.jpg  \n",
            "  inflating: data/brain_tumor_dataset/yes/Y61.jpg  \n",
            "  inflating: data/brain_tumor_dataset/yes/Y62.jpg  \n",
            "  inflating: data/brain_tumor_dataset/yes/Y65.JPG  \n",
            "  inflating: data/brain_tumor_dataset/yes/Y66.JPG  \n",
            "  inflating: data/brain_tumor_dataset/yes/Y67.JPG  \n",
            "  inflating: data/brain_tumor_dataset/yes/Y69.jpg  \n",
            "  inflating: data/brain_tumor_dataset/yes/Y7.jpg  \n",
            "  inflating: data/brain_tumor_dataset/yes/Y70.jpg  \n",
            "  inflating: data/brain_tumor_dataset/yes/Y71.JPG  \n",
            "  inflating: data/brain_tumor_dataset/yes/Y73.jpg  \n",
            "  inflating: data/brain_tumor_dataset/yes/Y74.jpg  \n",
            "  inflating: data/brain_tumor_dataset/yes/Y75.JPG  \n",
            "  inflating: data/brain_tumor_dataset/yes/Y76.jpg  \n",
            "  inflating: data/brain_tumor_dataset/yes/Y77.jpg  \n",
            "  inflating: data/brain_tumor_dataset/yes/Y78.jpg  \n",
            "  inflating: data/brain_tumor_dataset/yes/Y79.jpg  \n",
            "  inflating: data/brain_tumor_dataset/yes/Y8.jpg  \n",
            "  inflating: data/brain_tumor_dataset/yes/Y81.jpg  \n",
            "  inflating: data/brain_tumor_dataset/yes/Y82.jpg  \n",
            "  inflating: data/brain_tumor_dataset/yes/Y85.JPG  \n",
            "  inflating: data/brain_tumor_dataset/yes/Y86.JPG  \n",
            "  inflating: data/brain_tumor_dataset/yes/Y89.JPG  \n",
            "  inflating: data/brain_tumor_dataset/yes/Y9.jpg  \n",
            "  inflating: data/brain_tumor_dataset/yes/Y90.jpg  \n",
            "  inflating: data/brain_tumor_dataset/yes/Y91.jpg  \n",
            "  inflating: data/brain_tumor_dataset/yes/Y92.jpg  \n",
            "  inflating: data/brain_tumor_dataset/yes/Y92.png  \n",
            "  inflating: data/brain_tumor_dataset/yes/Y95.jpg  \n",
            "  inflating: data/brain_tumor_dataset/yes/Y96.jpg  \n",
            "  inflating: data/brain_tumor_dataset/yes/Y97.JPG  \n",
            "  inflating: data/brain_tumor_dataset/yes/Y98.JPG  \n",
            "  inflating: data/brain_tumor_dataset/yes/Y99.JPG  \n",
            "  inflating: data/no/1 no.jpeg       \n",
            "  inflating: data/no/10 no.jpg       \n",
            "  inflating: data/no/11 no.jpg       \n",
            "  inflating: data/no/12 no.jpg       \n",
            "  inflating: data/no/13 no.jpg       \n",
            "  inflating: data/no/14 no.jpg       \n",
            "  inflating: data/no/15 no.jpg       \n",
            "  inflating: data/no/17 no.jpg       \n",
            "  inflating: data/no/18 no.jpg       \n",
            "  inflating: data/no/19 no.jpg       \n",
            "  inflating: data/no/2 no.jpeg       \n",
            "  inflating: data/no/20 no.jpg       \n",
            "  inflating: data/no/21 no.jpg       \n",
            "  inflating: data/no/22 no.jpg       \n",
            "  inflating: data/no/23 no.jpg       \n",
            "  inflating: data/no/24 no.jpg       \n",
            "  inflating: data/no/25 no.jpg       \n",
            "  inflating: data/no/26 no.jpg       \n",
            "  inflating: data/no/27 no.jpg       \n",
            "  inflating: data/no/28 no.jpg       \n",
            "  inflating: data/no/29 no.jpg       \n",
            "  inflating: data/no/3 no.jpg        \n",
            "  inflating: data/no/30 no.jpg       \n",
            "  inflating: data/no/31 no.jpg       \n",
            "  inflating: data/no/32 no.jpg       \n",
            "  inflating: data/no/33 no.jpg       \n",
            "  inflating: data/no/34 no.jpg       \n",
            "  inflating: data/no/35 no.jpg       \n",
            "  inflating: data/no/36 no.jpg       \n",
            "  inflating: data/no/37 no.jpg       \n",
            "  inflating: data/no/38 no.jpg       \n",
            "  inflating: data/no/39 no.jpg       \n",
            "  inflating: data/no/4 no.jpg        \n",
            "  inflating: data/no/40 no.jpg       \n",
            "  inflating: data/no/41 no.jpg       \n",
            "  inflating: data/no/42 no.jpg       \n",
            "  inflating: data/no/43 no.jpg       \n",
            "  inflating: data/no/44no.jpg        \n",
            "  inflating: data/no/45 no.jpg       \n",
            "  inflating: data/no/46 no.jpg       \n",
            "  inflating: data/no/47 no.jpg       \n",
            "  inflating: data/no/48 no.jpeg      \n",
            "  inflating: data/no/49 no.jpg       \n",
            "  inflating: data/no/5 no.jpg        \n",
            "  inflating: data/no/50 no.jpg       \n",
            "  inflating: data/no/6 no.jpg        \n",
            "  inflating: data/no/7 no.jpg        \n",
            "  inflating: data/no/8 no.jpg        \n",
            "  inflating: data/no/9 no.jpg        \n",
            "  inflating: data/no/N1.JPG          \n",
            "  inflating: data/no/N11.jpg         \n",
            "  inflating: data/no/N15.jpg         \n",
            "  inflating: data/no/N16.jpg         \n",
            "  inflating: data/no/N17.jpg         \n",
            "  inflating: data/no/N19.JPG         \n",
            "  inflating: data/no/N2.JPG          \n",
            "  inflating: data/no/N20.JPG         \n",
            "  inflating: data/no/N21.jpg         \n",
            "  inflating: data/no/N22.JPG         \n",
            "  inflating: data/no/N26.JPG         \n",
            "  inflating: data/no/N3.jpg          \n",
            "  inflating: data/no/N5.jpg          \n",
            "  inflating: data/no/N6.jpg          \n",
            "  inflating: data/no/No11.jpg        \n",
            "  inflating: data/no/No12.jpg        \n",
            "  inflating: data/no/No13.jpg        \n",
            "  inflating: data/no/No14.jpg        \n",
            "  inflating: data/no/No15.jpg        \n",
            "  inflating: data/no/No16.jpg        \n",
            "  inflating: data/no/No17.jpg        \n",
            "  inflating: data/no/No18.jpg        \n",
            "  inflating: data/no/No19.jpg        \n",
            "  inflating: data/no/No20.jpg        \n",
            "  inflating: data/no/No21.jpg        \n",
            "  inflating: data/no/No22.jpg        \n",
            "  inflating: data/no/no 1.jpg        \n",
            "  inflating: data/no/no 10.jpg       \n",
            "  inflating: data/no/no 100.jpg      \n",
            "  inflating: data/no/no 2.jpg        \n",
            "  inflating: data/no/no 3.jpg        \n",
            "  inflating: data/no/no 4.jpg        \n",
            "  inflating: data/no/no 5.jpeg       \n",
            "  inflating: data/no/no 6.jpg        \n",
            "  inflating: data/no/no 7.jpeg       \n",
            "  inflating: data/no/no 8.jpg        \n",
            "  inflating: data/no/no 89.jpg       \n",
            "  inflating: data/no/no 9.png        \n",
            "  inflating: data/no/no 90.jpg       \n",
            "  inflating: data/no/no 91.jpeg      \n",
            "  inflating: data/no/no 92.jpg       \n",
            "  inflating: data/no/no 923.jpg      \n",
            "  inflating: data/no/no 94.jpg       \n",
            "  inflating: data/no/no 95.jpg       \n",
            "  inflating: data/no/no 96.jpg       \n",
            "  inflating: data/no/no 97.jpg       \n",
            "  inflating: data/no/no 98.jpg       \n",
            "  inflating: data/no/no 99.jpg       \n",
            "  inflating: data/no/no.jpg          \n",
            "  inflating: data/yes/Y1.jpg         \n",
            "  inflating: data/yes/Y10.jpg        \n",
            "  inflating: data/yes/Y100.JPG       \n",
            "  inflating: data/yes/Y101.jpg       \n",
            "  inflating: data/yes/Y102.jpg       \n",
            "  inflating: data/yes/Y103.jpg       \n",
            "  inflating: data/yes/Y104.jpg       \n",
            "  inflating: data/yes/Y105.jpg       \n",
            "  inflating: data/yes/Y106.jpg       \n",
            "  inflating: data/yes/Y107.jpg       \n",
            "  inflating: data/yes/Y108.jpg       \n",
            "  inflating: data/yes/Y109.JPG       \n",
            "  inflating: data/yes/Y11.jpg        \n",
            "  inflating: data/yes/Y111.JPG       \n",
            "  inflating: data/yes/Y112.JPG       \n",
            "  inflating: data/yes/Y113.JPG       \n",
            "  inflating: data/yes/Y114.JPG       \n",
            "  inflating: data/yes/Y115.JPG       \n",
            "  inflating: data/yes/Y116.JPG       \n",
            "  inflating: data/yes/Y117.JPG       \n",
            "  inflating: data/yes/Y12.jpg        \n",
            "  inflating: data/yes/Y120.JPG       \n",
            "  inflating: data/yes/Y13.jpg        \n",
            "  inflating: data/yes/Y14.jpg        \n",
            "  inflating: data/yes/Y146.JPG       \n",
            "  inflating: data/yes/Y147.JPG       \n",
            "  inflating: data/yes/Y148.JPG       \n",
            "  inflating: data/yes/Y15.jpg        \n",
            "  inflating: data/yes/Y153.jpg       \n",
            "  inflating: data/yes/Y154.jpg       \n",
            "  inflating: data/yes/Y155.JPG       \n",
            "  inflating: data/yes/Y156.JPG       \n",
            "  inflating: data/yes/Y157.JPG       \n",
            "  inflating: data/yes/Y158.JPG       \n",
            "  inflating: data/yes/Y159.JPG       \n",
            "  inflating: data/yes/Y16.JPG        \n",
            "  inflating: data/yes/Y160.JPG       \n",
            "  inflating: data/yes/Y161.JPG       \n",
            "  inflating: data/yes/Y162.jpg       \n",
            "  inflating: data/yes/Y163.JPG       \n",
            "  inflating: data/yes/Y164.JPG       \n",
            "  inflating: data/yes/Y165.JPG       \n",
            "  inflating: data/yes/Y166.JPG       \n",
            "  inflating: data/yes/Y167.JPG       \n",
            "  inflating: data/yes/Y168.jpg       \n",
            "  inflating: data/yes/Y169.jpg       \n",
            "  inflating: data/yes/Y17.jpg        \n",
            "  inflating: data/yes/Y170.JPG       \n",
            "  inflating: data/yes/Y18.JPG        \n",
            "  inflating: data/yes/Y180.jpg       \n",
            "  inflating: data/yes/Y181.jpg       \n",
            "  inflating: data/yes/Y182.JPG       \n",
            "  inflating: data/yes/Y183.jpg       \n",
            "  inflating: data/yes/Y184.JPG       \n",
            "  inflating: data/yes/Y185.jpg       \n",
            "  inflating: data/yes/Y186.jpg       \n",
            "  inflating: data/yes/Y187.jpg       \n",
            "  inflating: data/yes/Y188.jpg       \n",
            "  inflating: data/yes/Y19.JPG        \n",
            "  inflating: data/yes/Y192.JPG       \n",
            "  inflating: data/yes/Y193.JPG       \n",
            "  inflating: data/yes/Y194.jpg       \n",
            "  inflating: data/yes/Y195.JPG       \n",
            "  inflating: data/yes/Y2.jpg         \n",
            "  inflating: data/yes/Y20.jpg        \n",
            "  inflating: data/yes/Y21.jpg        \n",
            "  inflating: data/yes/Y22.jpg        \n",
            "  inflating: data/yes/Y23.JPG        \n",
            "  inflating: data/yes/Y24.jpg        \n",
            "  inflating: data/yes/Y242.JPG       \n",
            "  inflating: data/yes/Y243.JPG       \n",
            "  inflating: data/yes/Y244.JPG       \n",
            "  inflating: data/yes/Y245.jpg       \n",
            "  inflating: data/yes/Y246.JPG       \n",
            "  inflating: data/yes/Y247.JPG       \n",
            "  inflating: data/yes/Y248.JPG       \n",
            "  inflating: data/yes/Y249.JPG       \n",
            "  inflating: data/yes/Y25.jpg        \n",
            "  inflating: data/yes/Y250.jpg       \n",
            "  inflating: data/yes/Y251.JPG       \n",
            "  inflating: data/yes/Y252.jpg       \n",
            "  inflating: data/yes/Y253.JPG       \n",
            "  inflating: data/yes/Y254.jpg       \n",
            "  inflating: data/yes/Y255.JPG       \n",
            "  inflating: data/yes/Y256.JPG       \n",
            "  inflating: data/yes/Y257.jpg       \n",
            "  inflating: data/yes/Y258.JPG       \n",
            "  inflating: data/yes/Y259.JPG       \n",
            "  inflating: data/yes/Y26.jpg        \n",
            "  inflating: data/yes/Y27.jpg        \n",
            "  inflating: data/yes/Y28.jpg        \n",
            "  inflating: data/yes/Y29.jpg        \n",
            "  inflating: data/yes/Y3.jpg         \n",
            "  inflating: data/yes/Y30.jpg        \n",
            "  inflating: data/yes/Y31.jpg        \n",
            "  inflating: data/yes/Y32.jpg        \n",
            "  inflating: data/yes/Y33.jpg        \n",
            "  inflating: data/yes/Y34.jpg        \n",
            "  inflating: data/yes/Y35.jpg        \n",
            "  inflating: data/yes/Y36.JPG        \n",
            "  inflating: data/yes/Y37.jpg        \n",
            "  inflating: data/yes/Y38.jpg        \n",
            "  inflating: data/yes/Y39.jpg        \n",
            "  inflating: data/yes/Y4.jpg         \n",
            "  inflating: data/yes/Y40.JPG        \n",
            "  inflating: data/yes/Y41.jpg        \n",
            "  inflating: data/yes/Y42.jpg        \n",
            "  inflating: data/yes/Y44.JPG        \n",
            "  inflating: data/yes/Y45.JPG        \n",
            "  inflating: data/yes/Y46.jpg        \n",
            "  inflating: data/yes/Y47.JPG        \n",
            "  inflating: data/yes/Y49.JPG        \n",
            "  inflating: data/yes/Y50.JPG        \n",
            "  inflating: data/yes/Y51.jpg        \n",
            "  inflating: data/yes/Y52.jpg        \n",
            "  inflating: data/yes/Y53.jpg        \n",
            "  inflating: data/yes/Y54.jpg        \n",
            "  inflating: data/yes/Y55.jpg        \n",
            "  inflating: data/yes/Y56.jpg        \n",
            "  inflating: data/yes/Y58.JPG        \n",
            "  inflating: data/yes/Y59.JPG        \n",
            "  inflating: data/yes/Y6.jpg         \n",
            "  inflating: data/yes/Y60.jpg        \n",
            "  inflating: data/yes/Y61.jpg        \n",
            "  inflating: data/yes/Y62.jpg        \n",
            "  inflating: data/yes/Y65.JPG        \n",
            "  inflating: data/yes/Y66.JPG        \n",
            "  inflating: data/yes/Y67.JPG        \n",
            "  inflating: data/yes/Y69.jpg        \n",
            "  inflating: data/yes/Y7.jpg         \n",
            "  inflating: data/yes/Y70.jpg        \n",
            "  inflating: data/yes/Y71.JPG        \n",
            "  inflating: data/yes/Y73.jpg        \n",
            "  inflating: data/yes/Y74.jpg        \n",
            "  inflating: data/yes/Y75.JPG        \n",
            "  inflating: data/yes/Y76.jpg        \n",
            "  inflating: data/yes/Y77.jpg        \n",
            "  inflating: data/yes/Y78.jpg        \n",
            "  inflating: data/yes/Y79.jpg        \n",
            "  inflating: data/yes/Y8.jpg         \n",
            "  inflating: data/yes/Y81.jpg        \n",
            "  inflating: data/yes/Y82.jpg        \n",
            "  inflating: data/yes/Y85.JPG        \n",
            "  inflating: data/yes/Y86.JPG        \n",
            "  inflating: data/yes/Y89.JPG        \n",
            "  inflating: data/yes/Y9.jpg         \n",
            "  inflating: data/yes/Y90.jpg        \n",
            "  inflating: data/yes/Y91.jpg        \n",
            "  inflating: data/yes/Y92.jpg        \n",
            "  inflating: data/yes/Y92.png        \n",
            "  inflating: data/yes/Y95.jpg        \n",
            "  inflating: data/yes/Y96.jpg        \n",
            "  inflating: data/yes/Y97.JPG        \n",
            "  inflating: data/yes/Y98.JPG        \n",
            "  inflating: data/yes/Y99.JPG        \n"
          ]
        }
      ],
      "source": [
        "!pip install kaggle\n",
        "!mkdir ~/.kaggle\n",
        "!cp kaggle.json ~/.kaggle/\n",
        "!chmod 600 ~/.kaggle/kaggle.json\n",
        "!kaggle datasets download -d navoneel/brain-mri-images-for-brain-tumor-detection\n",
        "!unzip -d data \"brain-mri-images-for-brain-tumor-detection\""
      ]
    },
    {
      "cell_type": "code",
      "source": [
        "## import libraries\n",
        "import numpy as np \n",
        "import pandas as pd\n",
        "import os\n",
        "import numpy as np \n",
        "import pandas as pd\n",
        "import os\n",
        "from tensorflow import keras \n",
        "from keras.models import Sequential\n",
        "from keras.layers import Conv2D, MaxPooling2D, Flatten, Dense, Dropout, BatchNormalization\n",
        "from PIL import Image\n",
        "import numpy as np\n",
        "import pandas as pd\n",
        "import matplotlib.pyplot as plt\n",
        "from glob import glob\n",
        "plt.style.use('dark_background')\n",
        "from sklearn.model_selection import train_test_split\n",
        "from sklearn.preprocessing import OneHotEncoder\n",
        "import cv2"
      ],
      "metadata": {
        "id": "JRgKatE9r7jj"
      },
      "execution_count": null,
      "outputs": []
    },
    {
      "cell_type": "code",
      "source": [
        "## Encode Y\n",
        "encoder = OneHotEncoder()\n",
        "encoder.fit([[0], [1]]) \n",
        "\n",
        "# 0 - Tumor, 1 - Normal"
      ],
      "metadata": {
        "colab": {
          "base_uri": "https://localhost:8080/"
        },
        "id": "9AXFNtMYr7gy",
        "outputId": "f645b5a9-4621-41a5-90d0-f32c04ed74c1"
      },
      "execution_count": null,
      "outputs": [
        {
          "output_type": "execute_result",
          "data": {
            "text/plain": [
              "OneHotEncoder()"
            ]
          },
          "metadata": {},
          "execution_count": 4
        }
      ]
    },
    {
      "cell_type": "code",
      "source": [
        "### Load Files\n",
        "noPaths = glob(\"./data/no/**/*.jpg\", recursive=True)\n",
        "yesPaths = glob(\"./data/yes/**/*.jpg\", recursive=True)\n",
        "\n",
        "data = []\n",
        "result = []\n",
        "for path in yesPaths:\n",
        "    img = cv2.imread(path)\n",
        "    img = cv2.cvtColor(img, cv2.COLOR_BGR2GRAY)\n",
        "    img = cv2.resize(img,(224,224))\n",
        "    img = np.array(img)\n",
        "    img = img.reshape(224, 224, 1)\n",
        "    if(img.shape == (224,224,1)):\n",
        "        data.append(np.array(img))\n",
        "        result.append(encoder.transform([[0]]).toarray())\n",
        "\n",
        "for path in noPaths:\n",
        "    img = cv2.imread(path)\n",
        "    img = cv2.cvtColor(img, cv2.COLOR_BGR2GRAY)\n",
        "    img = cv2.resize(img, (224,224))\n",
        "    img = np.array(img)\n",
        "    img = img.reshape(224, 224, 1)\n",
        "    if(img.shape == (224,224,1)):\n",
        "        data.append(np.array(img))\n",
        "        result.append(encoder.transform([[1]]).toarray())"
      ],
      "metadata": {
        "id": "bgCjQNxWr7ea"
      },
      "execution_count": null,
      "outputs": []
    },
    {
      "cell_type": "code",
      "source": [
        "## X numpy array\n",
        "data = np.array(data)\n",
        "data.shape"
      ],
      "metadata": {
        "colab": {
          "base_uri": "https://localhost:8080/"
        },
        "id": "SjXO_6c8r7b2",
        "outputId": "0b4d0711-1fc5-49dc-e7c0-8e5c85ab0cb1"
      },
      "execution_count": null,
      "outputs": [
        {
          "output_type": "execute_result",
          "data": {
            "text/plain": [
              "(171, 224, 224, 1)"
            ]
          },
          "metadata": {},
          "execution_count": 6
        }
      ]
    },
    {
      "cell_type": "code",
      "source": [
        "## Y numpy array\n",
        "result = np.array(result)\n",
        "result = result.reshape(171,2)"
      ],
      "metadata": {
        "id": "BDSrUvmHr7ZZ"
      },
      "execution_count": null,
      "outputs": []
    },
    {
      "cell_type": "code",
      "source": [
        "## train test split\n",
        "x_train,x_test,y_train,y_test = train_test_split(data, result, test_size=0.2, random_state=69)"
      ],
      "metadata": {
        "id": "vleyo3Ser7W5"
      },
      "execution_count": null,
      "outputs": []
    },
    {
      "cell_type": "code",
      "source": [
        "## Create model\n",
        "model = Sequential()\n",
        "\n",
        "model.add(Conv2D(32, kernel_size=(2, 2), input_shape=(224, 224, 1), padding = 'Same'))\n",
        "model.add(Conv2D(32, kernel_size=(2, 2),  activation ='LeakyReLU', padding = 'Same'))\n",
        "\n",
        "\n",
        "model.add(BatchNormalization())\n",
        "model.add(MaxPooling2D(pool_size=(2, 2)))\n",
        "model.add(Dropout(0.25))\n",
        "\n",
        "model.add(Conv2D(64, kernel_size = (2,2), activation ='LeakyReLU', padding = 'Same'))\n",
        "model.add(Conv2D(64, kernel_size = (2,2), activation ='LeakyReLU', padding = 'Same'))\n",
        "\n",
        "model.add(BatchNormalization())\n",
        "model.add(MaxPooling2D(pool_size=(2,2), strides=(2,2)))\n",
        "model.add(Dropout(0.25))\n",
        "\n",
        "model.add(Flatten())\n",
        "\n",
        "model.add(Dense(512, activation='LeakyReLU'))\n",
        "model.add(Dropout(0.5))\n",
        "model.add(Dense(2, activation='softmax'))\n",
        "\n",
        "model.compile(loss = \"categorical_crossentropy\", optimizer='Adam', metrics=['accuracy'])\n",
        "print(model.summary())"
      ],
      "metadata": {
        "colab": {
          "base_uri": "https://localhost:8080/"
        },
        "id": "SyVx2VdAr7UK",
        "outputId": "840c5a7c-c950-4ea2-cddd-4a6266fce943"
      },
      "execution_count": null,
      "outputs": [
        {
          "output_type": "stream",
          "name": "stdout",
          "text": [
            "Model: \"sequential\"\n",
            "_________________________________________________________________\n",
            " Layer (type)                Output Shape              Param #   \n",
            "=================================================================\n",
            " conv2d (Conv2D)             (None, 224, 224, 32)      160       \n",
            "                                                                 \n",
            " conv2d_1 (Conv2D)           (None, 224, 224, 32)      4128      \n",
            "                                                                 \n",
            " batch_normalization (BatchN  (None, 224, 224, 32)     128       \n",
            " ormalization)                                                   \n",
            "                                                                 \n",
            " max_pooling2d (MaxPooling2D  (None, 112, 112, 32)     0         \n",
            " )                                                               \n",
            "                                                                 \n",
            " dropout (Dropout)           (None, 112, 112, 32)      0         \n",
            "                                                                 \n",
            " conv2d_2 (Conv2D)           (None, 112, 112, 64)      8256      \n",
            "                                                                 \n",
            " conv2d_3 (Conv2D)           (None, 112, 112, 64)      16448     \n",
            "                                                                 \n",
            " batch_normalization_1 (Batc  (None, 112, 112, 64)     256       \n",
            " hNormalization)                                                 \n",
            "                                                                 \n",
            " max_pooling2d_1 (MaxPooling  (None, 56, 56, 64)       0         \n",
            " 2D)                                                             \n",
            "                                                                 \n",
            " dropout_1 (Dropout)         (None, 56, 56, 64)        0         \n",
            "                                                                 \n",
            " flatten (Flatten)           (None, 200704)            0         \n",
            "                                                                 \n",
            " dense (Dense)               (None, 512)               102760960 \n",
            "                                                                 \n",
            " dropout_2 (Dropout)         (None, 512)               0         \n",
            "                                                                 \n",
            " dense_1 (Dense)             (None, 2)                 1026      \n",
            "                                                                 \n",
            "=================================================================\n",
            "Total params: 102,791,362\n",
            "Trainable params: 102,791,170\n",
            "Non-trainable params: 192\n",
            "_________________________________________________________________\n",
            "None\n"
          ]
        }
      ]
    },
    {
      "cell_type": "code",
      "source": [
        "## Train model\n",
        "history = model.fit(x_train, y_train, epochs = 10, batch_size = 4, verbose = 1,validation_data = (x_test, y_test))"
      ],
      "metadata": {
        "colab": {
          "base_uri": "https://localhost:8080/"
        },
        "id": "EJ99pkHYr7R7",
        "outputId": "38bed158-a857-428c-c0b6-a4c1c26593f0"
      },
      "execution_count": null,
      "outputs": [
        {
          "output_type": "stream",
          "name": "stdout",
          "text": [
            "Epoch 1/10\n",
            "34/34 [==============================] - 14s 126ms/step - loss: 151.9044 - accuracy: 0.6103 - val_loss: 388.1947 - val_accuracy: 0.6571\n",
            "Epoch 2/10\n",
            "34/34 [==============================] - 3s 98ms/step - loss: 70.2696 - accuracy: 0.7794 - val_loss: 247.3202 - val_accuracy: 0.7429\n",
            "Epoch 3/10\n",
            "34/34 [==============================] - 3s 100ms/step - loss: 35.2693 - accuracy: 0.9191 - val_loss: 117.5579 - val_accuracy: 0.6286\n",
            "Epoch 4/10\n",
            "34/34 [==============================] - 3s 96ms/step - loss: 44.8425 - accuracy: 0.8603 - val_loss: 164.1791 - val_accuracy: 0.7429\n",
            "Epoch 5/10\n",
            "34/34 [==============================] - 3s 98ms/step - loss: 18.2591 - accuracy: 0.9412 - val_loss: 309.7347 - val_accuracy: 0.6000\n",
            "Epoch 6/10\n",
            "34/34 [==============================] - 3s 99ms/step - loss: 19.8278 - accuracy: 0.9338 - val_loss: 187.8919 - val_accuracy: 0.7143\n",
            "Epoch 7/10\n",
            "34/34 [==============================] - 3s 89ms/step - loss: 10.1181 - accuracy: 0.9559 - val_loss: 316.9484 - val_accuracy: 0.7429\n",
            "Epoch 8/10\n",
            "34/34 [==============================] - 3s 89ms/step - loss: 4.4769 - accuracy: 0.9706 - val_loss: 206.0155 - val_accuracy: 0.7429\n",
            "Epoch 9/10\n",
            "34/34 [==============================] - 3s 89ms/step - loss: 4.8076 - accuracy: 0.9779 - val_loss: 194.8587 - val_accuracy: 0.7429\n",
            "Epoch 10/10\n",
            "34/34 [==============================] - 3s 89ms/step - loss: 8.5207 - accuracy: 0.9559 - val_loss: 279.9523 - val_accuracy: 0.7429\n"
          ]
        }
      ]
    },
    {
      "cell_type": "code",
      "source": [
        "## loss graph\n",
        "plt.plot(history.history['loss'])\n",
        "plt.plot(history.history['val_loss'])\n",
        "plt.title('Model Loss')\n",
        "plt.ylabel('Loss')\n",
        "plt.xlabel('Epoch')\n",
        "plt.legend(['Test', 'Validation'], loc='upper right')\n",
        "plt.show()"
      ],
      "metadata": {
        "colab": {
          "base_uri": "https://localhost:8080/",
          "height": 295
        },
        "id": "QcSFxq2Fr7Pw",
        "outputId": "df877308-6fe9-45b7-92bf-8ce26403cf4e"
      },
      "execution_count": null,
      "outputs": [
        {
          "output_type": "display_data",
          "data": {
            "image/png": "[encoded data removed]",
            "text/plain": [
              "<Figure size 432x288 with 1 Axes>"
            ]
          },
          "metadata": {}
        }
      ]
    },
    {
      "cell_type": "code",
      "source": [
        "## Accuracy Graph\n",
        "plt.plot(history.history['accuracy'])\n",
        "plt.plot(history.history['val_accuracy'])\n",
        "plt.title('Model Accuracy')\n",
        "plt.ylabel('Loss')\n",
        "plt.xlabel('Epoch')\n",
        "plt.legend(['Test', 'Validation'], loc='upper right')\n",
        "plt.show()"
      ],
      "metadata": {
        "colab": {
          "base_uri": "https://localhost:8080/",
          "height": 295
        },
        "id": "G4xVVPzsr7Mz",
        "outputId": "010afbb1-1977-4a4e-d892-1e2992b5cbe6"
      },
      "execution_count": null,
      "outputs": [
        {
          "output_type": "display_data",
          "data": {
            "image/png": "[encoded data removed]",
            "text/plain": [
              "<Figure size 432x288 with 1 Axes>"
            ]
          },
          "metadata": {}
        }
      ]
    },
    {
      "cell_type": "code",
      "source": [
        "## save model\n",
        "model.save('model.h5')"
      ],
      "metadata": {
        "id": "4q5USGbOr7Jy"
      },
      "execution_count": null,
      "outputs": []
    },
    {
      "cell_type": "code",
      "source": [
        "from google.colab import drive\n",
        "drive.mount('/content/drive')"
      ],
      "metadata": {
        "colab": {
          "base_uri": "https://localhost:8080/"
        },
        "id": "p7pdMzQ4scpC",
        "outputId": "50dfa757-e49f-45d8-9bcf-c06f3c1d7d07"
      },
      "execution_count": null,
      "outputs": [
        {
          "output_type": "stream",
          "name": "stdout",
          "text": [
            "Mounted at /content/drive\n"
          ]
        }
      ]
    },
    {
      "cell_type": "code",
      "source": [
        "!cp model.h5 /content/drive/MyDrive/"
      ],
      "metadata": {
        "id": "iE1pPNe9r7ER"
      },
      "execution_count": null,
      "outputs": []
    },
    {
      "cell_type": "code",
      "source": [
        ""
      ],
      "metadata": {
        "id": "Gvs7I5DBr7Bt"
      },
      "execution_count": null,
      "outputs": []
    },
    {
      "cell_type": "code",
      "source": [
        ""
      ],
      "metadata": {
        "id": "WyUhtlk5r65x"
      },
      "execution_count": null,
      "outputs": []
    }
  ]
}